{
 "cells": [
  {
   "cell_type": "code",
   "execution_count": 1,
   "id": "8668c849",
   "metadata": {},
   "outputs": [
    {
     "name": "stdout",
     "output_type": "stream",
     "text": [
      "Enter limit of the list: 5\n",
      "Enter an integer: 10\n",
      "Enter an integer: 10\n",
      "Enter an integer: 10\n",
      "Enter an integer: 10\n",
      "Enter an integer: 10\n",
      "Input list elements are: \n",
      "10\n",
      "10\n",
      "10\n",
      "10\n",
      "10\n"
     ]
    }
   ],
   "source": [
    "# declare a list\n",
    "list = []\n",
    "# read limit (value of n)\n",
    "# for maximum number of elements\n",
    "n = int (input (\"Enter limit of the list: \"))\n",
    "\n",
    "# input n integer element \n",
    "# and append to the list \n",
    "for i in range (n) :\n",
    "    item = int (input (\"Enter an integer: \"))\n",
    "    list.append (item)\n",
    "\n",
    "# print all elements\n",
    "print (\"Input list elements are: \")\n",
    "for i in range (n) :\n",
    "    print (list [i])\n"
   ]
  },
  {
   "cell_type": "markdown",
   "id": "011874f7",
   "metadata": {},
   "source": [
    "Declare a list and print the elements/objects of the list in Python.\n",
    "Program:"
   ]
  },
  {
   "cell_type": "code",
   "execution_count": 3,
   "id": "fa173eb3",
   "metadata": {},
   "outputs": [
    {
     "name": "stdout",
     "output_type": "stream",
     "text": [
      "List element are:  [10, 20, 30, 40, 50]\n",
      "Element @ 0 index: 10\n",
      "Element @ 1 index: 20\n",
      "Element @ 2 index: 30\n",
      "Element @ 3 index: 40\n",
      "Element @ 4 index: 50\n",
      "List elements are:  ['New Delhi', 'Mumbai', 'Chennai', 'calcutta']\n",
      "Element @ 0 index: New Delhi\n",
      "Element @ 1 index: Mumbai\n",
      "Element @ 2 index: Chennai\n",
      "Element @ 3 index: calcutta\n",
      " \n",
      "List elements are:  ['Amit Shukla', 21, 'New Delhi', 9876543210]\n",
      "Element @ 0 index (Name) : Amit Shukla\n",
      "Element @ 1 index (Age ) : 21\n",
      "Element @ 2 index (City) : New Delhi\n",
      "Element @ 3 index (Mob.) : 9876543210\n",
      "\n"
     ]
    }
   ],
   "source": [
    "# declaring list with integer elements\n",
    "list1 = [10, 20, 30, 40, 50]\n",
    "\n",
    "# printing list1\n",
    "print (\"List element are: \", list1)\n",
    "\n",
    "\n",
    "# printing elements of list1 by index\n",
    "print (\"Element @ 0 index:\", list1[0])\n",
    "print (\"Element @ 1 index:\", list1[1])\n",
    "print (\"Element @ 2 index:\", list1[2])\n",
    "print (\"Element @ 3 index:\", list1[3])\n",
    "print (\"Element @ 4 index:\", list1[4])\n",
    "\n",
    "\n",
    "# declaring list with string elements\n",
    "list2 = [\"New Delhi\", \"Mumbai\", \"Chennai\", \"calcutta\"]\n",
    "\n",
    "# printing list2\n",
    "print (\"List elements are: \", list2)\n",
    "\n",
    "#printing elements of list2 by index\n",
    "print (\"Element @ 0 index:\",list2 [0])\n",
    "print (\"Element @ 1 index:\",list2 [1])\n",
    "print (\"Element @ 2 index:\",list2 [2])\n",
    "print (\"Element @ 3 index:\",list2 [3])\n",
    "print (\" \") # prints new line\n",
    "\n",
    "# declaring list with mixed elements\n",
    "list3 = [\"Amit Shukla\", 21, \"New Delhi\", 9876543210]\n",
    "\n",
    "#printing list3\n",
    "print (\"List elements are: \", list3)\n",
    "\n",
    "# printing elements of list3 by index\n",
    "print( \"Element @ 0 index (Name) :\", list3[0])\n",
    "print (\"Element @ 1 index (Age ) :\", list3[1])\n",
    "print (\"Element @ 2 index (City) :\", list3[2])\n",
    "print (\"Element @ 3 index (Mob.) :\", list3[3])\n",
    "print( \"\") # prints new line"
   ]
  },
  {
   "cell_type": "markdown",
   "id": "ceafeaed",
   "metadata": {},
   "source": [
    "Python program to print list elements in different ways"
   ]
  },
  {
   "cell_type": "code",
   "execution_count": 4,
   "id": "1c2981eb",
   "metadata": {},
   "outputs": [
    {
     "name": "stdout",
     "output_type": "stream",
     "text": [
      "['Amit', 'Abhi', 'Radib', 21, 22, 37]\n",
      "Amit\n",
      "Amit Abhi\n",
      "['Radib', 21, 22]\n",
      "['Abhi', 'Radib', 21, 22, 37]\n",
      "[100, 200, 'Hello', 'World', 100, 200, 'Hello', 'World']\n",
      "['Amit', 'Abhi', 'Radib', 21, 22, 37, 100, 200, 'Hello', 'World']\n"
     ]
    }
   ],
   "source": [
    "# python program to demonstrate example of lists\n",
    "\n",
    "# declaring & initializing two list\n",
    "list1 = [\"Amit\", \"Abhi\", \"Radib\", 21, 22, 37]\n",
    "list2 = [100, 200, \"Hello\", \"World\"]\n",
    "\n",
    "print (list1)          \t\t# printing complete list1\n",
    "print (list1[0])       \t\t# printing 0th (first) element of list1\n",
    "print (list1[0], list1[1])\t# printing first & second elements\n",
    "print (list1[2:5])     \t\t# printing elements from 2nd to 5th index\n",
    "print (list1[1:])      \t\t# printing all elements from 1st index\n",
    "print (list2 * 2)  \t\t# printing list2 two times\n",
    "print (list1 + list2) \t\t# printing concatenated list1 & list2\n"
   ]
  },
  {
   "cell_type": "markdown",
   "id": "7d497941",
   "metadata": {},
   "source": [
    "Python | Program for Adding, removing elements in the list"
   ]
  },
  {
   "cell_type": "code",
   "execution_count": 5,
   "id": "f34f78de",
   "metadata": {},
   "outputs": [
    {
     "name": "stdout",
     "output_type": "stream",
     "text": [
      "List elements are:  [10, 20, 30, 'New Delhi', 'Mumbai']\n",
      "List elements:  [10, 20, 30, 'New Delhi', 'Mumbai', 40, 50, 'Chennai']\n",
      "List elements:  [10, 20, 30, 'New Delhi', 'Mumbai', 40, 50]\n",
      "List elements:  [10, 20, 30, 'New Delhi', 'Mumbai', 40]\n"
     ]
    }
   ],
   "source": [
    "# Declaring a list with integer and string elements\n",
    "list = [10, 20, 30, \"New Delhi\", \"Mumbai\"]\n",
    "\n",
    "# printing list\n",
    "print (\"List elements are: \", list)\n",
    "\n",
    "# adding elements \n",
    "list.append (40)\n",
    "list.append (50)\n",
    "list.append (\"Chennai\")\n",
    "\n",
    "# printing list after adding elements\n",
    "print (\"List elements: \", list)\n",
    "\n",
    "# removing elements\n",
    "list.pop () ;\n",
    "# printing list\n",
    "print (\"List elements: \", list)\n",
    "# removing elements\n",
    "list.pop () ;\n",
    "# printing list\n",
    "print (\"List elements: \", list)\n"
   ]
  },
  {
   "cell_type": "markdown",
   "id": "caeb4e15",
   "metadata": {},
   "source": [
    "Python | Program to print a list using 'FOR and IN' loop"
   ]
  },
  {
   "cell_type": "code",
   "execution_count": 8,
   "id": "577e4c63",
   "metadata": {},
   "outputs": [
    {
     "name": "stdout",
     "output_type": "stream",
     "text": [
      "List elements are:  [10, 20, 30, 40, 50]\n",
      " \n",
      "List elements are: \n",
      "10\n",
      "20\n",
      "30\n",
      "40\n",
      "50\n",
      " \n",
      "Sum is:  150\n"
     ]
    }
   ],
   "source": [
    "# Declaring a list\n",
    "list = [10, 20, 30, 40, 50]\n",
    "\n",
    "# printing without using FOR and IN\n",
    "print (\"List elements are: \", list)\n",
    "print (\" \") # prints new line\n",
    "\n",
    "# printing using FOR and IN\n",
    "print(\"List elements are: \")\n",
    "\n",
    "for L in list:\n",
    "\tprint( L )\n",
    "\n",
    "print( \" \") # prints new line\n",
    "\n",
    "# calculating Sum of all elements\n",
    "sum = 0 \n",
    "for L in list:\n",
    "\tsum += L \n",
    "print (\"Sum is: \", sum)\n"
   ]
  },
  {
   "cell_type": "markdown",
   "id": "c3c9574b",
   "metadata": {},
   "source": [
    "Python | Program to add an element at specified index in a list"
   ]
  },
  {
   "cell_type": "code",
   "execution_count": 9,
   "id": "fe6d844d",
   "metadata": {},
   "outputs": [
    {
     "name": "stdout",
     "output_type": "stream",
     "text": [
      "[10, 20, 30]\n",
      "[10, 'ABC', 20, 30]\n",
      "[10, 'ABC', 20, 'PQR', 30]\n",
      "[10, 'ABC', 20, 'PQR', 30, 'XYZ']\n",
      "[10, 'ABC', 20, 'PQR', 30, 99, 'XYZ']\n"
     ]
    }
   ],
   "source": [
    "# Declaring a list\n",
    "list = [10, 20, 30]\n",
    "\n",
    "# printing elements\n",
    "print (list)\n",
    "# O/P will be: [10, 20, 30]\n",
    "\n",
    "# inserting \"ABC\" at 1st index\n",
    "list.insert (1, \"ABC\")\n",
    "# printing\n",
    "print (list)\n",
    "# O/P will be: [10, 'ABC', 20, 30]\n",
    "\n",
    "# inserting \"PQR\" at 3rd index\n",
    "list.insert (3, \"PQR\")\n",
    "# printing\n",
    "print (list)\n",
    "# O/P will be: [10, 'ABC', 20, 'PQR', 30]\n",
    "\n",
    "# inserting 'XYZ' at 5th index\n",
    "list.insert (5, \"XYZ\")\n",
    "print (list)\n",
    "# O/P will be: [10, 'ABC', 20, 'PQR', 30, 'XYZ']\n",
    "\n",
    "# inserting 99 at second last index \n",
    "list.insert (len (list) -1, 99)\n",
    "# printing\n",
    "print (list)\n",
    "# O/P will be: [10, 'ABC', 20, 'PQR', 30, 99, 'XYZ']\n"
   ]
  },
  {
   "cell_type": "markdown",
   "id": "373449ed",
   "metadata": {},
   "source": [
    "Python | Program to remove first occurrence of a given element in the list"
   ]
  },
  {
   "cell_type": "code",
   "execution_count": 10,
   "id": "a6c54eab",
   "metadata": {},
   "outputs": [
    {
     "name": "stdout",
     "output_type": "stream",
     "text": [
      "List element:\n",
      "10\n",
      "20\n",
      "30\n",
      "40\n",
      "30\n",
      "List element after removing 30:\n",
      "10\n",
      "20\n",
      "40\n",
      "30\n"
     ]
    }
   ],
   "source": [
    "# Declaring a list\n",
    "list = [10, 20, 30, 40, 30]\n",
    "\n",
    "# print list \n",
    "print (\"List element:\")\n",
    "for l in range(len(list)):\n",
    "\tprint (list[l])\n",
    "\n",
    "# removing 30 from the list \n",
    "list.remove(30);\n",
    "\n",
    "# print list after removing 30\n",
    "print (\"List element after removing 30:\")\n",
    "for l in range(len(list)):\n",
    "\tprint (list[l])\n"
   ]
  },
  {
   "cell_type": "markdown",
   "id": "eabd2032",
   "metadata": {},
   "source": [
    "Python | Remove all occurrences a given element from the list"
   ]
  },
  {
   "cell_type": "code",
   "execution_count": 11,
   "id": "a7d765e5",
   "metadata": {},
   "outputs": [
    {
     "name": "stdout",
     "output_type": "stream",
     "text": [
      "Original list:\n",
      "[10, 20, 10, 30, 10, 40, 10, 50]\n",
      "list after removing elements:\n",
      "[20, 30, 40, 50]\n"
     ]
    }
   ],
   "source": [
    "# list with integer elements\n",
    "list = [10, 20, 10, 30, 10, 40, 10, 50]\n",
    "# number (n) to be removed\n",
    "n = 10\n",
    "\n",
    "# print original list \n",
    "print (\"Original list:\")\n",
    "print (list)\n",
    "\n",
    "# loop to traverse each element in list\n",
    "# and, remove elements \n",
    "# which are equals to n\n",
    "i=0 #loop counter\n",
    "length = len(list)  #list length \n",
    "while(i<length):\n",
    "\tif(list[i]==n):\n",
    "\t\tlist.remove (list[i])\n",
    "\t\t# as an element is removed\t\n",
    "\t\t# so decrease the length by 1\t\n",
    "\t\tlength = length -1  \n",
    "\t\t# run loop again to check element\t\t\t\t\t\t\t\n",
    "\t\t# at same index, when item removed \n",
    "\t\t# next item will shift to the left \n",
    "\t\tcontinue\n",
    "\ti = i+1\n",
    "\n",
    "# print list after removing given element\n",
    "print (\"list after removing elements:\")\n",
    "print (list)\n"
   ]
  },
  {
   "cell_type": "markdown",
   "id": "110d2aa4",
   "metadata": {},
   "source": [
    "Python | Program to remove all elements in a range from the List"
   ]
  },
  {
   "cell_type": "code",
   "execution_count": 12,
   "id": "a3137c5f",
   "metadata": {},
   "outputs": [
    {
     "name": "stdout",
     "output_type": "stream",
     "text": [
      "List element:\n",
      "10\n",
      "20\n",
      "30\n",
      "40\n",
      "50\n",
      "List element after del[1:3]:\n",
      "10\n",
      "40\n",
      "50\n"
     ]
    }
   ],
   "source": [
    "# Declaring a list\n",
    "list = [10, 20, 30, 40, 50]\n",
    "\n",
    "# print list\n",
    "print (\"List element:\")\n",
    "for l in range(len(list)):\n",
    "\tprint (list[l])\n",
    "\n",
    "# delete element from index 1 to 30del list[1.3]\n",
    "del list[1:3]\n",
    "\n",
    "# print list after deleting\n",
    "# element from index 1 to 3\n",
    "print (\"List element after del[1:3]:\")\n",
    "for l in range(len(list)):\n",
    "\tprint (list[l])\n"
   ]
  },
  {
   "cell_type": "markdown",
   "id": "626ee57b",
   "metadata": {},
   "source": [
    "Python | Program to sort the elements of given list in Ascending and Descending Order"
   ]
  },
  {
   "cell_type": "code",
   "execution_count": 13,
   "id": "a56235fe",
   "metadata": {},
   "outputs": [
    {
     "name": "stdout",
     "output_type": "stream",
     "text": [
      "[10, 20, 30, 40, 50]\n",
      "[0.1, 10.12, 10.23, 11.0, 20.45]\n",
      "['Apple', 'Banana', 'Cat', 'Dog', 'Fish']\n"
     ]
    }
   ],
   "source": [
    "# List of integers\n",
    "num = [10, 30, 40, 20, 50]\n",
    "\n",
    "# sorting and printing \n",
    "num.sort()\n",
    "print (num)\n",
    "\n",
    "# List of float numbers\n",
    "fnum = [10.23, 10.12, 20.45, 11.00, 0.1]\n",
    "\n",
    "# sorting and printing\n",
    "fnum.sort()\n",
    "print (fnum)\n",
    "\n",
    "# List of strings \n",
    "str = [\"Banana\", \"Cat\", \"Apple\", \"Dog\", \"Fish\"]\n",
    "\n",
    "# sorting and  printing\n",
    "str.sort()\n",
    "print (str)\n"
   ]
  },
  {
   "cell_type": "code",
   "execution_count": 14,
   "id": "6b9083fe",
   "metadata": {},
   "outputs": [
    {
     "name": "stdout",
     "output_type": "stream",
     "text": [
      "[50, 40, 30, 20, 10]\n",
      "[20.45, 11.0, 10.23, 10.12, 0.1]\n",
      "['Fish', 'Dog', 'Cat', 'Banana', 'Apple']\n"
     ]
    }
   ],
   "source": [
    "# List of integers\n",
    "num = [10, 30, 40, 20, 50]\n",
    "\n",
    "# sorting and printing \n",
    "num.sort(reverse=True)\n",
    "print (num)\n",
    "\n",
    "# List of float numbers\n",
    "fnum = [10.23, 10.12, 20.45, 11.00, 0.1]\n",
    "\n",
    "# sorting and printing\n",
    "fnum.sort(reverse=True)\n",
    "print (fnum)\n",
    "\n",
    "# List of strings \n",
    "str = [\"Banana\", \"Cat\", \"Apple\", \"Dog\", \"Fish\"]\n",
    "\n",
    "# sorting and  printing\n",
    "str.sort(reverse=True)\n",
    "print (str)\n"
   ]
  },
  {
   "cell_type": "markdown",
   "id": "7f474815",
   "metadata": {},
   "source": [
    "Python | Program to find the differences of two lists"
   ]
  },
  {
   "cell_type": "code",
   "execution_count": 18,
   "id": "184185c1",
   "metadata": {},
   "outputs": [
    {
     "ename": "SyntaxError",
     "evalue": "Missing parentheses in call to 'print'. Did you mean print(\"list1:\", list1)? (83353180.py, line 7)",
     "output_type": "error",
     "traceback": [
      "\u001b[1;36m  Input \u001b[1;32mIn [18]\u001b[1;36m\u001b[0m\n\u001b[1;33m    print \"list1:\", list1\u001b[0m\n\u001b[1;37m          ^\u001b[0m\n\u001b[1;31mSyntaxError\u001b[0m\u001b[1;31m:\u001b[0m Missing parentheses in call to 'print'. Did you mean print(\"list1:\", list1)?\n"
     ]
    }
   ],
   "source": [
    "# list1 - first list of the integers\n",
    "# lists2 - second list of the integers\n",
    "list1 = [10, 20, 30, 40, 50]\n",
    "list2 = [10, 20, 30, 60, 70]\n",
    "\n",
    "# printing lists \n",
    "print \"list1:\", list1\n",
    "print \"list2:\", list2\n",
    "\n",
    "# finding and printing differences of the lists\n",
    "print (\"Difference elements:\")\n",
    "print(list (set(list1) - set (list2)))\n"
   ]
  },
  {
   "cell_type": "code",
   "execution_count": 19,
   "id": "ac3a0058",
   "metadata": {},
   "outputs": [
    {
     "name": "stdout",
     "output_type": "stream",
     "text": [
      "list1: ['Amit', 'Shukla', 21, 'New Delhi']\n",
      "list2: ['Aman', 'Shukla', 21, 'Mumbai']\n",
      "Elements not exists in list2:\n"
     ]
    },
    {
     "ename": "TypeError",
     "evalue": "'list' object is not callable",
     "output_type": "error",
     "traceback": [
      "\u001b[1;31m---------------------------------------------------------------------------\u001b[0m",
      "\u001b[1;31mTypeError\u001b[0m                                 Traceback (most recent call last)",
      "Input \u001b[1;32mIn [19]\u001b[0m, in \u001b[0;36m<cell line: 12>\u001b[1;34m()\u001b[0m\n\u001b[0;32m     10\u001b[0m \u001b[38;5;66;03m# finding and printing differences of the lists\u001b[39;00m\n\u001b[0;32m     11\u001b[0m \u001b[38;5;28mprint\u001b[39m (\u001b[38;5;124m\"\u001b[39m\u001b[38;5;124mElements not exists in list2:\u001b[39m\u001b[38;5;124m\"\u001b[39m)\n\u001b[1;32m---> 12\u001b[0m \u001b[38;5;28mprint\u001b[39m (\u001b[38;5;28;43mlist\u001b[39;49m\u001b[43m \u001b[49m\u001b[43m(\u001b[49m\u001b[38;5;28;43mset\u001b[39;49m\u001b[43m(\u001b[49m\u001b[43mlist1\u001b[49m\u001b[43m)\u001b[49m\u001b[43m \u001b[49m\u001b[38;5;241;43m-\u001b[39;49m\u001b[43m \u001b[49m\u001b[38;5;28;43mset\u001b[39;49m\u001b[43m \u001b[49m\u001b[43m(\u001b[49m\u001b[43mlist2\u001b[49m\u001b[43m)\u001b[49m\u001b[43m)\u001b[49m)\n\u001b[0;32m     14\u001b[0m \u001b[38;5;28mprint\u001b[39m (\u001b[38;5;124m\"\u001b[39m\u001b[38;5;124mElements not exists in list1:\u001b[39m\u001b[38;5;124m\"\u001b[39m)\n\u001b[0;32m     15\u001b[0m \u001b[38;5;28mprint\u001b[39m (\u001b[38;5;28mlist\u001b[39m (\u001b[38;5;28mset\u001b[39m(list2) \u001b[38;5;241m-\u001b[39m \u001b[38;5;28mset\u001b[39m (list1)))\n",
      "\u001b[1;31mTypeError\u001b[0m: 'list' object is not callable"
     ]
    }
   ],
   "source": [
    "# list1 - first list with mixed type elements\n",
    "# lists2 - second list with mixed type elements\n",
    "list1 = [\"Amit\", \"Shukla\", 21, \"New Delhi\"]\n",
    "list2 = [\"Aman\", \"Shukla\", 21, \"Mumbai\"]\n",
    "\n",
    "# printing lists \n",
    "print (\"list1:\", list1)\n",
    "print (\"list2:\", list2)\n",
    "\n",
    "# finding and printing differences of the lists\n",
    "print (\"Elements not exists in list2:\")\n",
    "print (list (set(list1) - set (list2)))\n",
    "\n",
    "print (\"Elements not exists in list1:\")\n",
    "print (list (set(list2) - set (list1)))\n"
   ]
  },
  {
   "cell_type": "markdown",
   "id": "66193881",
   "metadata": {},
   "source": [
    "Python | Program to Print the index of first matched element of a list"
   ]
  },
  {
   "cell_type": "code",
   "execution_count": 20,
   "id": "3b8740c3",
   "metadata": {},
   "outputs": [
    {
     "name": "stdout",
     "output_type": "stream",
     "text": [
      "0\n",
      "1\n",
      "4\n",
      "5\n",
      "6\n"
     ]
    }
   ],
   "source": [
    "# declare a list of Integers\n",
    "list = [10, 20, 10, 20, 30, 40, 50]\n",
    "\n",
    "# printing index of 10 \n",
    "print (list.index (10))\n",
    "\n",
    "#printing index of 20\n",
    "print (list.index (20))\n",
    "\n",
    "# printing index of 30\n",
    "print (list.index (30))\n",
    "\n",
    "# printing index of 40\n",
    "print (list.index (40))\n",
    "\n",
    "# printing index of 50\n",
    "print (list.index (50))\n"
   ]
  },
  {
   "cell_type": "markdown",
   "id": "1b423dd3",
   "metadata": {},
   "source": [
    "Python | Program to find the position of minimum and maximum elements of a list"
   ]
  },
  {
   "cell_type": "code",
   "execution_count": 21,
   "id": "82c3df3d",
   "metadata": {},
   "outputs": [
    {
     "name": "stdout",
     "output_type": "stream",
     "text": [
      "position of minimum element:  1\n",
      "position of maximum element:  3\n"
     ]
    }
   ],
   "source": [
    "# declare a list of Integers\n",
    "list = [10, 1, 2, 20, 3, 20]\n",
    "\n",
    "# min element's position/index\n",
    "min = list.index (min(list))\n",
    "# max element's position/index\n",
    "max = list.index (max(list))\n",
    "\n",
    "# printing the position/index of min and max elements\n",
    "print (\"position of minimum element: \", min)\n",
    "print (\"position of maximum element: \", max)\n"
   ]
  },
  {
   "cell_type": "markdown",
   "id": "77e7c335",
   "metadata": {},
   "source": [
    "Python | Program to input, append and print the list elements"
   ]
  },
  {
   "cell_type": "code",
   "execution_count": 24,
   "id": "7809cf0c",
   "metadata": {},
   "outputs": [
    {
     "name": "stdout",
     "output_type": "stream",
     "text": [
      "Enter limit of the list: 2\n",
      "Enter an integer: 20\n",
      "Enter an integer: 20\n",
      "Input list elements are: \n",
      "20\n",
      "20\n"
     ]
    }
   ],
   "source": [
    "# declare a list\n",
    "list = []\n",
    "\n",
    "# read limit (value of n)\n",
    "# for maximum number of elements\n",
    "n = int (input (\"Enter limit of the list: \"))\n",
    "\n",
    "# input n integer element \n",
    "# and append to the list \n",
    "for i in range (n) :\n",
    "\titem = int (input (\"Enter an integer: \"))\n",
    "\tlist.append (item)\n",
    "\n",
    "# print all elements\n",
    "print (\"Input list elements are: \")\n",
    "for i in range (n) :\n",
    "\tprint (list [i])\n"
   ]
  },
  {
   "cell_type": "markdown",
   "id": "bf53c7f6",
   "metadata": {},
   "source": [
    "Python | Program to remove duplicate elements from the list"
   ]
  },
  {
   "cell_type": "code",
   "execution_count": 5,
   "id": "b0d5d30c",
   "metadata": {},
   "outputs": [
    {
     "name": "stdout",
     "output_type": "stream",
     "text": [
      "Original list\n",
      "list1:  [10, 20, 10, 20, 30, 40, 30, 50]\n",
      "List after removing duplicate elements\n",
      "list2:  [10, 20, 30, 40, 50]\n"
     ]
    }
   ],
   "source": [
    "# declare list \n",
    "list1 = [10, 20, 10, 20, 30, 40, 30, 50]\n",
    "\n",
    "# creating another list with unique elements\n",
    "# declare another list \n",
    "list2 = []\n",
    "\n",
    "# appending elements \n",
    "for n in list1:\n",
    "    if n not in list2:\n",
    "        list2.append(n)\n",
    "\n",
    "# printing the lists \n",
    "print (\"Original list\")\n",
    "print (\"list1: \", list1)\n",
    "print (\"List after removing duplicate elements\")\n",
    "print (\"list2: \", list2)\n"
   ]
  },
  {
   "cell_type": "code",
   "execution_count": 7,
   "id": "c004e9c0",
   "metadata": {},
   "outputs": [
    {
     "name": "stdout",
     "output_type": "stream",
     "text": [
      "Original list:  [10, 20, 10, 20, 30, 40, 30, 50]\n",
      "List after duplicate remove:  [10, 20, 30, 40, 50]\n"
     ]
    }
   ],
   "source": [
    "# Function to remove duplicates \n",
    "def removeDuplicates (list1):\n",
    "\t# declare another list\n",
    "\tlist2 = []\n",
    "\n",
    "\t# appending elements \n",
    "\tfor n in list1:\n",
    "\t\tif n not in list2:\n",
    "\t\t\tlist2.append (n)\n",
    "\treturn list2\n",
    "\n",
    "# Main code\n",
    "# declare a list\n",
    "list1 = [10, 20, 10, 20, 30, 40, 30, 50]\n",
    "# print the list \n",
    "print( \"Original list: \", list1)\n",
    "print (\"List after duplicate remove: \", removeDuplicates (list1))\n"
   ]
  },
  {
   "cell_type": "code",
   "execution_count": 12,
   "id": "2429f1b0",
   "metadata": {},
   "outputs": [
    {
     "name": "stdout",
     "output_type": "stream",
     "text": [
      "Original list:  [10, 20, 10, 20, 30, 40, 30, 50]\n",
      "List after duplicate remove:  {40, 10, 50, 20, 30}\n"
     ]
    }
   ],
   "source": [
    "def removeDuplicates (list1):\n",
    "    list2 = set(list1)\n",
    "    return list2\n",
    "\n",
    "# Main code\n",
    "# declare a list\n",
    "list1 = [10, 20, 10, 20, 30, 40, 30, 50]\n",
    "# print the list \n",
    "print (\"Original list: \", list1)\n",
    "print (\"List after duplicate remove: \", removeDuplicates (list1))\n"
   ]
  },
  {
   "cell_type": "markdown",
   "id": "e5d2851d",
   "metadata": {},
   "source": [
    "Python | Program to Create two lists with EVEN numbers and ODD numbers from a list"
   ]
  },
  {
   "cell_type": "code",
   "execution_count": 13,
   "id": "6e8639fe",
   "metadata": {},
   "outputs": [
    {
     "name": "stdout",
     "output_type": "stream",
     "text": [
      "list1:     [11, 22, 33, 44, 55]\n",
      "listEven:  [22, 44]\n",
      "listOdd:   [11, 33, 55]\n"
     ]
    }
   ],
   "source": [
    "# declare and assign list1\n",
    "list1 = [11, 22, 33, 44, 55]\n",
    "\n",
    "# declare listOdd - to store odd numbers\n",
    "# declare listEven - to store even numbers\n",
    "listOdd = []\n",
    "listEven = []\n",
    "\n",
    "# check and append odd numbers in listOdd\n",
    "# and even numbers in listEven\n",
    "for num in list1:\n",
    "\tif num%2 == 0:\n",
    "\t\tlistEven.append(num)\n",
    "\telse:\n",
    "\t\tlistOdd.append(num) \n",
    "\n",
    "# print lists\n",
    "print (\"list1:    \", list1 )\n",
    "print (\"listEven: \", listEven)\n",
    "print (\"listOdd:  \", listOdd)\n"
   ]
  },
  {
   "cell_type": "markdown",
   "id": "4dc3e1c4",
   "metadata": {},
   "source": [
    "Python | Program to print all numbers which are divisible by M and N in the List"
   ]
  },
  {
   "cell_type": "code",
   "execution_count": 17,
   "id": "08c58054",
   "metadata": {},
   "outputs": [
    {
     "name": "stdout",
     "output_type": "stream",
     "text": [
      "List is:  [10, 15, 20, 25, 30]\n",
      "Numbers divisible by 3 and 5\n",
      "15\n",
      "30\n"
     ]
    }
   ],
   "source": [
    "list = [10, 15, 20, 25, 30]\n",
    "# declare and assign M and N \n",
    "M = 3\n",
    "N = 5 \n",
    "\n",
    "# print the list\n",
    "print (\"List is: \", list)\n",
    "\n",
    "# Traverse each element and check \n",
    "# whether it is divisible by M, N \n",
    "# or not, if condition is true print \n",
    "# the element\n",
    "print (\"Numbers divisible by {0} and {1}\".format (M, N))\n",
    "for num in list:\n",
    "    if( num%M==0 and num%N==0 ) :\n",
    "        print (num)"
   ]
  },
  {
   "cell_type": "markdown",
   "id": "004d14da",
   "metadata": {},
   "source": [
    "Python | Create a list from the specified start to end index of another list"
   ]
  },
  {
   "cell_type": "code",
   "execution_count": 19,
   "id": "dda0960c",
   "metadata": {},
   "outputs": [
    {
     "name": "stdout",
     "output_type": "stream",
     "text": [
      "list :  [10, 20, 30, 40, 50, 60]\n",
      "list1:  [20, 30, 40, 50]\n"
     ]
    }
   ],
   "source": [
    "# define list \n",
    "list = [10, 20, 30, 40, 50, 60]\n",
    "\n",
    "start = 1\n",
    "end = 4\n",
    "\n",
    "if ( start < 0):\n",
    "    print (\"Invalid start index\")\n",
    "    quit()\n",
    "\n",
    "if( end > len(list)-1):\n",
    "    print (\"Invalid end index\")\n",
    "    quit ()\n",
    "\n",
    "# create another list\n",
    "list1 = list[start:end+1]\n",
    "\n",
    "# printth lists \n",
    "print (\"list : \", list)\n",
    "print (\"list1: \", list1)\n"
   ]
  },
  {
   "cell_type": "code",
   "execution_count": 20,
   "id": "d290850d",
   "metadata": {},
   "outputs": [
    {
     "name": "stdout",
     "output_type": "stream",
     "text": [
      "Invalid end index\n",
      "list :  [10, 20, 30, 40, 50, 60]\n",
      "list1:  [20, 30, 40, 50, 60]\n"
     ]
    }
   ],
   "source": [
    "# define list \n",
    "list = [10, 20, 30, 40, 50, 60]\n",
    "\n",
    "start = 1\n",
    "end = 6\n",
    "\n",
    "if ( start < 0):\n",
    "    print( \"Invalid start index\")\n",
    "    quit()\n",
    "\n",
    "if( end > len(list)-1):\n",
    "    print( \"Invalid end index\")\n",
    "    quit ()\n",
    "\n",
    "# create another list\n",
    "list1 = list[start:end+1]\n",
    "\n",
    "# printth lists \n",
    "print (\"list : \", list)\n",
    "print (\"list1: \", list1)\n"
   ]
  },
  {
   "cell_type": "markdown",
   "id": "efa729a7",
   "metadata": {},
   "source": [
    "Python | Create three lists of numbers, their squares and cubes"
   ]
  },
  {
   "cell_type": "code",
   "execution_count": 3,
   "id": "ceb7cf02",
   "metadata": {},
   "outputs": [
    {
     "name": "stdout",
     "output_type": "stream",
     "text": [
      "numbers:  [1, 2, 3, 4, 5, 6, 7, 8, 9, 10]\n",
      "squares:  [1, 4, 9, 16, 25, 36, 49, 64, 81, 100]\n",
      "cubes  :  [1, 8, 27, 64, 125, 216, 343, 512, 729, 1000]\n"
     ]
    }
   ],
   "source": [
    "# declare lists\n",
    "numbers = []\n",
    "squares = []\n",
    "cubes = []\n",
    "\n",
    "# start and end numbers\n",
    "start = 1 \n",
    "end = 10 \n",
    "\n",
    "# run a loop from start to end+1 \n",
    "for count in range (start, end+1) :\n",
    "    numbers.append (count)\n",
    "    squares.append (count**2)\n",
    "    cubes.append (count**3)\n",
    "\n",
    "# print the lists\n",
    "print (\"numbers: \",numbers)\n",
    "print (\"squares: \",squares)\n",
    "print (\"cubes  : \",cubes)\n"
   ]
  },
  {
   "cell_type": "code",
   "execution_count": 4,
   "id": "c172e5fa",
   "metadata": {},
   "outputs": [
    {
     "name": "stdout",
     "output_type": "stream",
     "text": [
      "numbers:  [1, 2, 3, 4, 5, 6, 7, 8, 9, 10]\n",
      "squares:  [1, 4, 9, 16, 25, 36, 49, 64, 81, 100]\n",
      "cubes  :  [1, 8, 27, 64, 125, 216, 343, 512, 729, 1000]\n"
     ]
    }
   ],
   "source": [
    "# define function to add numbers in list\n",
    "def listNumbers(a,b):\n",
    "\t#define dynamic list\n",
    "\tlist = []\n",
    "\tfor count in range(a,b+1):\n",
    "\t\tlist.append(count)\t\n",
    "\t#return list\n",
    "\treturn list\n",
    "\t\n",
    "# define function to add squares in list\n",
    "def listSquares(a,b):\n",
    "\t#define dynamic list\n",
    "\tlist = []\n",
    "\tfor count in range(a,b+1):\n",
    "\t\tlist.append(count**2)\t\n",
    "\t#return list\n",
    "\treturn list\n",
    "\n",
    "# define function to add cubes in list\n",
    "def listCubes(a,b):\n",
    "\t#define dynamic list\n",
    "\tlist = []\n",
    "\tfor count in range(a,b+1):\n",
    "\t\tlist.append(count**3)\t\n",
    "\t#return list\n",
    "\treturn list\n",
    "\t\n",
    "\n",
    "# Main code\t\n",
    "# declare lists\n",
    "numbers = []\n",
    "squares = []\n",
    "cubes = []\n",
    "\n",
    "# start and end numbers\n",
    "start = 1 \n",
    "end = 10 \n",
    "\n",
    "# get values in lists\n",
    "numbers = listNumbers(start, end)\n",
    "squares = listSquares(start, end)\n",
    "cubes   = listCubes(start, end)\n",
    "\n",
    "# print the lists\n",
    "print (\"numbers: \",numbers)\n",
    "print (\"squares: \",squares)\n",
    "print (\"cubes  : \",cubes)"
   ]
  },
  {
   "cell_type": "markdown",
   "id": "d88ce40b",
   "metadata": {},
   "source": [
    "Python | Create three lists of numbers, their squares and cubes"
   ]
  },
  {
   "cell_type": "code",
   "execution_count": 5,
   "id": "1a1448ef",
   "metadata": {},
   "outputs": [
    {
     "name": "stdout",
     "output_type": "stream",
     "text": [
      "list :  [10, 20, 30, 40, 50, 60]\n",
      "list1:  [10, 20, 30]\n",
      "list2:  [40, 50, 60]\n"
     ]
    }
   ],
   "source": [
    "# define a list \n",
    "list = [10, 20, 30, 40, 50, 60]\n",
    "\n",
    "# Create list1 with half elements (first 3 elements)\n",
    "list1 = list [:3]\n",
    "# Create list2 with next half elements (next 3 elements)\n",
    "list2 = list [3:]\n",
    "\n",
    "# print list (s)\n",
    "print (\"list : \",list)\n",
    "print (\"list1: \",list1)\n",
    "print (\"list2: \",list2)\n"
   ]
  },
  {
   "cell_type": "code",
   "execution_count": 1,
   "id": "310dd930",
   "metadata": {},
   "outputs": [
    {
     "name": "stdout",
     "output_type": "stream",
     "text": [
      "List has ODD number of elements.\n"
     ]
    },
    {
     "ename": "TypeError",
     "evalue": "slice indices must be integers or None or have an __index__ method",
     "output_type": "error",
     "traceback": [
      "\u001b[1;31m---------------------------------------------------------------------------\u001b[0m",
      "\u001b[1;31mTypeError\u001b[0m                                 Traceback (most recent call last)",
      "Input \u001b[1;32mIn [1]\u001b[0m, in \u001b[0;36m<cell line: 14>\u001b[1;34m()\u001b[0m\n\u001b[0;32m     11\u001b[0m     exit()\n\u001b[0;32m     13\u001b[0m \u001b[38;5;66;03m# Create list1 with half elements (first 3 elements)\u001b[39;00m\n\u001b[1;32m---> 14\u001b[0m \u001b[38;5;28mprint\u001b[39m(\u001b[38;5;28;43mlist\u001b[39;49m\u001b[43m \u001b[49m\u001b[43m[\u001b[49m\u001b[38;5;241;43m0\u001b[39;49m\u001b[43m:\u001b[49m\u001b[43mn\u001b[49m\u001b[38;5;241;43m/\u001b[39;49m\u001b[38;5;241;43m2\u001b[39;49m\u001b[43m]\u001b[49m)\n\u001b[0;32m     15\u001b[0m \u001b[38;5;66;03m# # # Create list2 with next half elements (next 3 elements)\u001b[39;00m\n\u001b[0;32m     16\u001b[0m list2 \u001b[38;5;241m=\u001b[39m \u001b[38;5;28mlist\u001b[39m [n\u001b[38;5;241m/\u001b[39m\u001b[38;5;241m2\u001b[39m:n]\n",
      "\u001b[1;31mTypeError\u001b[0m: slice indices must be integers or None or have an __index__ method"
     ]
    }
   ],
   "source": [
    "# define a list \n",
    "list = [10, 20, 30, 40, 50, 60,51]\n",
    "\n",
    "# get the length of the list \n",
    "n = len(list)\n",
    "\n",
    "# condition to check length is EVEN or not\n",
    "# if lenght is ODD, show message and exit\n",
    "if( n%2 != 0 ):\n",
    "    print (\"List has ODD number of elements.\")\n",
    "    exit()\n",
    "    \n",
    "# Create list1 with half elements (first 3 elements)\n",
    "print(list [0:n/2])\n",
    "# # # Create list2 with next half elements (next 3 elements)\n",
    "list2 = list [n/2:n]\n",
    "\n",
    "# print list (s)\n",
    "print (\"list : \",list)\n",
    "print (\"list1: \",list1)\n",
    "print (\"list2: \",list2)"
   ]
  },
  {
   "cell_type": "code",
   "execution_count": 6,
   "id": "cb114287",
   "metadata": {},
   "outputs": [
    {
     "name": "stdout",
     "output_type": "stream",
     "text": [
      "7\n",
      "[10, 20, 30]\n"
     ]
    }
   ],
   "source": [
    "list_1 = [10, 20, 30, 40, 50, 60,51]\n",
    "n = len(list_1)\n",
    "print(n)\n",
    "val = n/2\n",
    "print(list_1[ : 3])"
   ]
  },
  {
   "cell_type": "markdown",
   "id": "0fd01ef0",
   "metadata": {},
   "source": [
    "Python | Iterate a list in reverse order"
   ]
  },
  {
   "cell_type": "code",
   "execution_count": 7,
   "id": "385f46e6",
   "metadata": {},
   "outputs": [
    {
     "name": "stdout",
     "output_type": "stream",
     "text": [
      "original list:  [10, 20, 30, 40, 50]\n",
      "list in reverse order:  [50, 40, 30, 20, 10]\n",
      "Original list:  ['Hello', 10, 'world', 20]\n",
      "list in reverse order:  [20, 'world', 10, 'Hello']\n"
     ]
    }
   ],
   "source": [
    "# define a list\n",
    "list1  = [10, 20, 30, 40, 50]\n",
    "\n",
    "# print the list \n",
    "print (\"original list: \", list1)\n",
    "\n",
    "# iterate the list\n",
    "list1 = list1[::-1]\n",
    "\n",
    "# print the list \n",
    "print (\"list in reverse order: \", list1)\n",
    "\n",
    "# another list with string and integer elements\n",
    "list2 = ['Hello', 10, 'world', 20]\n",
    "\n",
    "# print the list\n",
    "print (\"Original list: \", list2)\n",
    "\n",
    "# iterate the list\n",
    "list2 = list2[::-1]\n",
    "\n",
    "# print the list\n",
    "print (\"list in reverse order: \", list2)\n"
   ]
  },
  {
   "cell_type": "markdown",
   "id": "0c8bcd5f",
   "metadata": {},
   "source": [
    "Python | print list after removing EVEN numbers"
   ]
  },
  {
   "cell_type": "code",
   "execution_count": 14,
   "id": "b0ece627",
   "metadata": {},
   "outputs": [
    {
     "name": "stdout",
     "output_type": "stream",
     "text": [
      "Original list:\n",
      "[11, 22, 33, 44, 55]\n",
      "list after removing EVEN numbers:\n",
      "[11, 33, 55]\n"
     ]
    }
   ],
   "source": [
    "# list with EVEN and ODD number\n",
    "list_1 = [11, 22, 33, 44, 55]\n",
    "list_2 = []\n",
    "\n",
    "# print original list\n",
    "print( \"Original list:\")\n",
    "print (list_1)\n",
    "\n",
    "# loop to traverse each element in the list\n",
    "# and, remove elements\n",
    "# which are EVEN (divisible by 2)\n",
    "for i  in list_1:\n",
    "    if(i%2 == 0):\n",
    "        list_1.remove(i)\n",
    "\n",
    "# print list after removing EVEN elements\n",
    "print (\"list after removing EVEN numbers:\")\n",
    "print (list_1)"
   ]
  },
  {
   "cell_type": "markdown",
   "id": "399f33b0",
   "metadata": {},
   "source": [
    "Python | print list after removing ODD numbers"
   ]
  },
  {
   "cell_type": "code",
   "execution_count": 15,
   "id": "b65b519b",
   "metadata": {},
   "outputs": [
    {
     "name": "stdout",
     "output_type": "stream",
     "text": [
      "Original list:\n",
      "[11, 22, 33, 44, 55]\n",
      "list after removing ODD numbers:\n",
      "[22, 44]\n"
     ]
    }
   ],
   "source": [
    "# list with EVEN and ODD number\n",
    "list = [11, 22, 33, 44, 55]\n",
    "\n",
    "# print original list\n",
    "print (\"Original list:\")\n",
    "print (list)\n",
    "\n",
    "# loop to traverse each element in the list\n",
    "# and, remove elements\n",
    "# which are ODD (not divisible by 2)\n",
    "for i  in list:\n",
    "    if(i%2 != 0):\n",
    "        list.remove(i)\n",
    "\n",
    "# print list after removing ODD elements\n",
    "print (\"list after removing ODD numbers:\")\n",
    "print (list)\n"
   ]
  },
  {
   "cell_type": "markdown",
   "id": "9138dfbf",
   "metadata": {},
   "source": [
    "Python | Input comma separated elements, convert into list and print"
   ]
  },
  {
   "cell_type": "code",
   "execution_count": 24,
   "id": "5077b5ea",
   "metadata": {},
   "outputs": [
    {
     "name": "stdout",
     "output_type": "stream",
     "text": [
      "Enter comma separated integers: 10,20\n"
     ]
    },
    {
     "ename": "ValueError",
     "evalue": "invalid literal for int() with base 10: '10,20'",
     "output_type": "error",
     "traceback": [
      "\u001b[1;31m---------------------------------------------------------------------------\u001b[0m",
      "\u001b[1;31mValueError\u001b[0m                                Traceback (most recent call last)",
      "Input \u001b[1;32mIn [24]\u001b[0m, in \u001b[0;36m<cell line: 2>\u001b[1;34m()\u001b[0m\n\u001b[0;32m      1\u001b[0m \u001b[38;5;66;03m# input comma separated elements as string \u001b[39;00m\n\u001b[1;32m----> 2\u001b[0m str_1 \u001b[38;5;241m=\u001b[39m \u001b[38;5;28;43mint\u001b[39;49m\u001b[43m(\u001b[49m\u001b[38;5;28;43minput\u001b[39;49m\u001b[43m(\u001b[49m\u001b[38;5;124;43m\"\u001b[39;49m\u001b[38;5;124;43mEnter comma separated integers: \u001b[39;49m\u001b[38;5;124;43m\"\u001b[39;49m\u001b[43m)\u001b[49m\u001b[43m)\u001b[49m\n\u001b[0;32m      3\u001b[0m \u001b[38;5;28mprint\u001b[39m (\u001b[38;5;124m\"\u001b[39m\u001b[38;5;124mInput string: \u001b[39m\u001b[38;5;124m\"\u001b[39m, str_1)\n",
      "\u001b[1;31mValueError\u001b[0m: invalid literal for int() with base 10: '10,20'"
     ]
    }
   ],
   "source": [
    "# input comma separated elements as string \n",
    "str_1 = int(input(\"Enter comma separated integers: \"))\n",
    "print (\"Input string: \", str_1)\n",
    "\n",
    "# # conver to the list\n",
    "# list = str_1.split (\",\")\n",
    "# print (\"list: \", list)\n",
    "\n",
    "# # convert each element as integers\n",
    "# li = []\n",
    "# for i in list:\n",
    "#     li.append(int(i))\n",
    "\n",
    "# # print list as integers\n",
    "# print( \"list (li) : \", li)\n"
   ]
  },
  {
   "cell_type": "markdown",
   "id": "5f5a73a3",
   "metadata": {},
   "source": [
    "Python | Convert a string to integers list"
   ]
  },
  {
   "cell_type": "code",
   "execution_count": 26,
   "id": "789d6435",
   "metadata": {},
   "outputs": [
    {
     "name": "stdout",
     "output_type": "stream",
     "text": [
      "1\n",
      "2\n",
      "3\n",
      "4\n",
      "5\n",
      "str1:  12345\n",
      "int_list:  [1, 2, 3, 4, 5]\n"
     ]
    }
   ],
   "source": [
    "# program to convert string to integer list\n",
    "# language: python3\n",
    "\n",
    "# declare a list\n",
    "str1 = \"12345\"\n",
    "\n",
    "# list variable to integeres\n",
    "int_list =[]\n",
    "\n",
    "# converting characters to integers\n",
    "for ch in str1:\n",
    "    int_list.append(int(ch))\n",
    "    print(ch)\n",
    "\n",
    "# printing the str_list and int_list    \n",
    "print (\"str1: \", str1)\n",
    "print (\"int_list: \", int_list)"
   ]
  },
  {
   "cell_type": "code",
   "execution_count": 27,
   "id": "083607aa",
   "metadata": {},
   "outputs": [
    {
     "ename": "ValueError",
     "evalue": "invalid literal for int() with base 10: 'A'",
     "output_type": "error",
     "traceback": [
      "\u001b[1;31m---------------------------------------------------------------------------\u001b[0m",
      "\u001b[1;31mValueError\u001b[0m                                Traceback (most recent call last)",
      "Input \u001b[1;32mIn [27]\u001b[0m, in \u001b[0;36m<cell line: 11>\u001b[1;34m()\u001b[0m\n\u001b[0;32m     10\u001b[0m \u001b[38;5;66;03m# converting characters to integers\u001b[39;00m\n\u001b[0;32m     11\u001b[0m \u001b[38;5;28;01mfor\u001b[39;00m ch \u001b[38;5;129;01min\u001b[39;00m str1:\n\u001b[1;32m---> 12\u001b[0m     int_list\u001b[38;5;241m.\u001b[39mappend(\u001b[38;5;28;43mint\u001b[39;49m\u001b[43m(\u001b[49m\u001b[43mch\u001b[49m\u001b[43m)\u001b[49m)\n\u001b[0;32m     14\u001b[0m \u001b[38;5;66;03m# printing the str_list and int_list    \u001b[39;00m\n\u001b[0;32m     15\u001b[0m \u001b[38;5;28mprint\u001b[39m (\u001b[38;5;124m\"\u001b[39m\u001b[38;5;124mstr1: \u001b[39m\u001b[38;5;124m\"\u001b[39m, str1)\n",
      "\u001b[1;31mValueError\u001b[0m: invalid literal for int() with base 10: 'A'"
     ]
    }
   ],
   "source": [
    "# program to convert string to integer list\n",
    "# language: python3\n",
    "\n",
    "# declare a list\n",
    "str1 = \"12345ABCD\"\n",
    "\n",
    "# list variable to integeres\n",
    "int_list =[]\n",
    "\n",
    "# converting characters to integers\n",
    "for ch in str1:\n",
    "    int_list.append(int(ch))\n",
    "\n",
    "# printing the str_list and int_list    \n",
    "print (\"str1: \", str1)\n",
    "print (\"int_list: \", int_list)"
   ]
  },
  {
   "cell_type": "markdown",
   "id": "5f079369",
   "metadata": {},
   "source": [
    "Using List as Stack in Python"
   ]
  },
  {
   "cell_type": "code",
   "execution_count": 28,
   "id": "992a5924",
   "metadata": {},
   "outputs": [
    {
     "name": "stdout",
     "output_type": "stream",
     "text": [
      "stack elements: \n",
      "[10, 20, 30]\n",
      "Stack elements after push opration...\n",
      "[10, 20, 30, 40, 50]\n",
      "50  is removed/popped...\n",
      "40  is removed/popped...\n",
      "30  is removed/popped...\n",
      "Stack elements after pop operation...\n",
      "[10, 20]\n"
     ]
    }
   ],
   "source": [
    "# Python Example: use list as stack \n",
    "\n",
    "# Declare a list named as \"stack\"\n",
    "stack = [10, 20, 30]\n",
    "print (\"stack elements: \");\n",
    "print (stack)\n",
    "\n",
    "# push operation \n",
    "stack.append(40)\n",
    "stack.append(50)\n",
    "print (\"Stack elements after push opration...\");\n",
    "print (stack)\n",
    "\n",
    "# push operation \n",
    "print (stack.pop (), \" is removed/popped...\")\n",
    "print (stack.pop (), \" is removed/popped...\")\n",
    "print (stack.pop (), \" is removed/popped...\")\n",
    "print (\"Stack elements after pop operation...\");\n",
    "print (stack)\n"
   ]
  },
  {
   "cell_type": "markdown",
   "id": "1aa61b2d",
   "metadata": {},
   "source": [
    "Python | Extend a list using + Operator"
   ]
  },
  {
   "cell_type": "code",
   "execution_count": 29,
   "id": "4e31deb3",
   "metadata": {},
   "outputs": [
    {
     "name": "stdout",
     "output_type": "stream",
     "text": [
      "[10, 20, 30, 40, 50]\n",
      "[10, 20, 30, 40, 50, 60, 70, 80]\n"
     ]
    }
   ],
   "source": [
    "# declaring a list with some of the elements\n",
    "list1 = [10, 20, 30, 40, 50]\n",
    "# printing the list\n",
    "print(list1)\n",
    "\n",
    "# inserting the elements in list\n",
    "list1 += [60]\n",
    "list1 += [70, 80]\n",
    "\n",
    "# print the updated list\n",
    "print(list1)\n"
   ]
  },
  {
   "cell_type": "markdown",
   "id": "9507d16a",
   "metadata": {},
   "source": [
    "Python program to find N largest and smallest elements from the list"
   ]
  },
  {
   "cell_type": "code",
   "execution_count": 30,
   "id": "465ce058",
   "metadata": {},
   "outputs": [
    {
     "name": "stdout",
     "output_type": "stream",
     "text": [
      "by largest_ele function:  [10, 8]\n",
      "by smallest_ele function:  [0, 1]\n",
      "BY heapq.nlargest:  [42, 37, 23]\n",
      "BY heapq.nsmallest:  [-4, 1, 2]\n"
     ]
    }
   ],
   "source": [
    "# N largest and smallest element in a list \n",
    "# by function and by the help of heapq module\n",
    "\n",
    "#function to find n largest element\n",
    "def largest_ele(l,n):\n",
    "    s=[]\n",
    "    for i in range(n):\n",
    "        s.append(max(l)) #append max of list in a new list\n",
    "        l.remove(max(l)) #remove max of list from the list\n",
    "    print('by largest_ele function: ',s)\n",
    "\n",
    "\n",
    "\t#function to find n largest element\n",
    "def smallest_ele(m,n): \n",
    "    t=[]\n",
    "    for i in range(n):\n",
    "        t.append(min(m))#append min of list in a new list\n",
    "        m.remove(min(m))#remove min of list from the list\n",
    "    print('by smallest_ele function: ',t)\n",
    "\n",
    "\n",
    "l=[2,4,6,8,10]\n",
    "m=[0,1,2,3,4,5,6]\n",
    "n=2\n",
    "largest_ele(l,n)\n",
    "smallest_ele(m,n)\n",
    "\n",
    "# using the inbuilt module function \n",
    "# heapq.nlargest and heapq.nsmallest\n",
    "import heapq\n",
    "nums = [1, 8, 2, 23, 7, -4, 18, 23, 42, 37, 2]\n",
    "print('BY heapq.nlargest: ',heapq.nlargest(3, nums)) # Prints [42, 37, 23]\n",
    "print('BY heapq.nsmallest: ',heapq.nsmallest(3, nums)) # Prints [-4, 1, 2]\n"
   ]
  },
  {
   "cell_type": "markdown",
   "id": "6da3d728",
   "metadata": {},
   "source": [
    "Python program for various list operations"
   ]
  },
  {
   "cell_type": "code",
   "execution_count": 31,
   "id": "68a0799c",
   "metadata": {},
   "outputs": [
    {
     "name": "stdout",
     "output_type": "stream",
     "text": [
      "iList:  [10, 20, 30, 40, 50, 60, 70, 80, 90, 100]\n",
      "first element:  10\n",
      "fourth element:  40\n",
      "iList elements from 0 to 4 index: [10, 20, 30, 40, 50]\n",
      "3rd or -7th element: 40\n",
      "iList after append(): [10, 20, 30, 40, 50, 60, 70, 80, 90, 100, 111]\n",
      "index of '80':  7\n",
      "after sorting:  [10, 20, 30, 40, 50, 60, 70, 80, 90, 100, 111]\n",
      "Popped elements is:  111\n",
      "after pop():  [10, 20, 30, 40, 50, 60, 70, 80, 90, 100]\n",
      "after removing '80':  [10, 20, 30, 40, 50, 60, 70, 90, 100]\n",
      "after insert:  [10, 20, 100, 30, 40, 50, 60, 70, 90, 100]\n",
      "number of occurences of '100':  2\n",
      "after extending: [10, 20, 100, 30, 40, 50, 60, 70, 90, 100, 11, 22, 33]\n",
      "after reversing: [33, 22, 11, 100, 90, 70, 60, 50, 40, 30, 100, 20, 10]\n"
     ]
    }
   ],
   "source": [
    "# Python code for various list operation\n",
    "\n",
    "# declaring a list of integers\n",
    "iList = [10, 20, 30, 40, 50, 60, 70, 80, 90, 100]\n",
    "\n",
    "# List slicing operations\n",
    "# printing the complete list\n",
    "print('iList: ',iList)\n",
    "# printing first element \n",
    "print('first element: ',iList[0]) \n",
    "# printing fourth element \n",
    "print('fourth element: ',iList[3]) \n",
    "# printing list elements from 0th index to 4th index\n",
    "print('iList elements from 0 to 4 index:',iList[0: 5]) \n",
    "# printing list -7th or 3rd element from the list\n",
    "print('3rd or -7th element:',iList[-7]) \n",
    "\n",
    "\n",
    "# appending an element to the list\n",
    "iList.append(111)\n",
    "print('iList after append():',iList)\n",
    "\n",
    "# finding index of a specified element \n",
    "print('index of \\'80\\': ',iList.index(80))\n",
    "\n",
    "# sorting the elements of iLIst\n",
    "iList.sort()\n",
    "print('after sorting: ', iList);\n",
    "\n",
    "# popping an element\n",
    "print('Popped elements is: ',iList.pop())\n",
    "print('after pop(): ', iList);\n",
    "\n",
    "# removing specified element\n",
    "iList.remove(80)\n",
    "print('after removing \\'80\\': ',iList)\n",
    "\n",
    "# inserting an element at specified index \n",
    "# inserting 100 at 2nd index \n",
    "iList.insert(2, 100)\n",
    "print('after insert: ', iList)\n",
    "\n",
    "# counting occurances of a specified element\n",
    "print('number of occurences of \\'100\\': ', iList.count(100))\n",
    "\n",
    "# extending elements i.e. inserting a list to the list\n",
    "iList.extend([11, 22, 33])\n",
    "print('after extending:', iList)\n",
    "\n",
    "#reversing the list\n",
    "iList.reverse()\n",
    "print('after reversing:', iList)\n"
   ]
  },
  {
   "cell_type": "markdown",
   "id": "2e4eb1ac",
   "metadata": {},
   "source": [
    "Find the index of an item given a list containing it in Python"
   ]
  },
  {
   "cell_type": "code",
   "execution_count": 32,
   "id": "c08a2e78",
   "metadata": {},
   "outputs": [
    {
     "name": "stdout",
     "output_type": "stream",
     "text": [
      "0\n",
      "3\n"
     ]
    }
   ],
   "source": [
    "test_list = ['bangalore','chennai','mangalore','vizag','delhi']\n",
    "print(test_list.index('bangalore'))\n",
    "test_list_1 = [1,2,3,4,5]\n",
    "print(test_list_1.index(4))"
   ]
  },
  {
   "cell_type": "code",
   "execution_count": 35,
   "id": "5412c21d",
   "metadata": {},
   "outputs": [
    {
     "name": "stdout",
     "output_type": "stream",
     "text": [
      "0\n"
     ]
    }
   ],
   "source": [
    "test_list = ['bangalore','chennai','mangalore','vizag','delhi']\n",
    "#finds the item 'bangalore' only within 0th to 3rd element in list and returns the index\n",
    "print(test_list.index('bangalore'))\n",
    "\n",
    "# #finds the item 'bangalore' only within 1st to 3rd element in list and returns the index, and since the item 'bangalore' is not in that range, we get the exception\n",
    "# print(test_list.index('bangalore',1,3))"
   ]
  },
  {
   "cell_type": "code",
   "execution_count": 36,
   "id": "e77ed0ad",
   "metadata": {},
   "outputs": [
    {
     "ename": "ValueError",
     "evalue": "'bhopal' is not in list",
     "output_type": "error",
     "traceback": [
      "\u001b[1;31m---------------------------------------------------------------------------\u001b[0m",
      "\u001b[1;31mValueError\u001b[0m                                Traceback (most recent call last)",
      "Input \u001b[1;32mIn [36]\u001b[0m, in \u001b[0;36m<cell line: 2>\u001b[1;34m()\u001b[0m\n\u001b[0;32m      1\u001b[0m test_list \u001b[38;5;241m=\u001b[39m [\u001b[38;5;124m'\u001b[39m\u001b[38;5;124mbangalore\u001b[39m\u001b[38;5;124m'\u001b[39m,\u001b[38;5;124m'\u001b[39m\u001b[38;5;124mchennai\u001b[39m\u001b[38;5;124m'\u001b[39m,\u001b[38;5;124m'\u001b[39m\u001b[38;5;124mmangalore\u001b[39m\u001b[38;5;124m'\u001b[39m,\u001b[38;5;124m'\u001b[39m\u001b[38;5;124mvizag\u001b[39m\u001b[38;5;124m'\u001b[39m,\u001b[38;5;124m'\u001b[39m\u001b[38;5;124mdelhi\u001b[39m\u001b[38;5;124m'\u001b[39m]\n\u001b[1;32m----> 2\u001b[0m \u001b[38;5;28mprint\u001b[39m(\u001b[43mtest_list\u001b[49m\u001b[38;5;241;43m.\u001b[39;49m\u001b[43mindex\u001b[49m\u001b[43m(\u001b[49m\u001b[38;5;124;43m'\u001b[39;49m\u001b[38;5;124;43mbhopal\u001b[39;49m\u001b[38;5;124;43m'\u001b[39;49m\u001b[43m)\u001b[49m)\n",
      "\u001b[1;31mValueError\u001b[0m: 'bhopal' is not in list"
     ]
    }
   ],
   "source": [
    "test_list = ['bangalore','chennai','mangalore','vizag','delhi']\n",
    "print(test_list.index('bhopal'))"
   ]
  },
  {
   "cell_type": "markdown",
   "id": "9b204c63",
   "metadata": {},
   "source": [
    "Extract Even and odd number from a given list in Python"
   ]
  },
  {
   "cell_type": "code",
   "execution_count": 37,
   "id": "d18c81a9",
   "metadata": {},
   "outputs": [
    {
     "name": "stdout",
     "output_type": "stream",
     "text": [
      "Enter the number: 15\n",
      "15 is an odd number.\n"
     ]
    }
   ],
   "source": [
    "# taking input from the user \n",
    "n=int(input('Enter the number: '))\n",
    "\n",
    "# checking whether it is EVEN or ODD\n",
    "if n%2==0:\n",
    "    print('{} is an even number.'.format(n))\n",
    "else:\n",
    "    print('{} is an odd number.'.format(n))\n"
   ]
  },
  {
   "cell_type": "markdown",
   "id": "315e3a7d",
   "metadata": {},
   "source": [
    "Remove falsy values from a list in Python"
   ]
  },
  {
   "cell_type": "code",
   "execution_count": null,
   "id": "0ea81914",
   "metadata": {},
   "outputs": [],
   "source": [
    "# Remove falsy values from a list in Python \n",
    "def newlist(lst):\n",
    "    return list(filter(None, lst))\n",
    "\n",
    "# main code\n",
    "list1 = [10, 20, 0, 30, 0, None]\n",
    "list2 = [40, False, \"Hello\", \"\", None]\n",
    "list3 = [False, None, 0, \"\", \"Hello\", 10, \"Hi!\"]\n",
    "\n",
    "# printing original strings\n",
    "print(\"list1: \", list1)\n",
    "print(\"list2: \", list2)\n",
    "print(\"list3: \", list3)\n",
    "\n",
    "# removing falsy values and printing\n",
    "print(\"newlist(list1): \", newlist(list1))\n",
    "print(\"newlist(list2): \", newlist(list2))\n",
    "print(\"newlist(list3): \", newlist(list3))\n"
   ]
  },
  {
   "cell_type": "code",
   "execution_count": 41,
   "id": "93630bdb",
   "metadata": {},
   "outputs": [
    {
     "name": "stdout",
     "output_type": "stream",
     "text": [
      "Enter elements of List: 5 6 7 8 9\n"
     ]
    },
    {
     "ename": "TypeError",
     "evalue": "int() argument must be a string, a bytes-like object or a number, not 'list'",
     "output_type": "error",
     "traceback": [
      "\u001b[1;31m---------------------------------------------------------------------------\u001b[0m",
      "\u001b[1;31mTypeError\u001b[0m                                 Traceback (most recent call last)",
      "Input \u001b[1;32mIn [41]\u001b[0m, in \u001b[0;36m<cell line: 2>\u001b[1;34m()\u001b[0m\n\u001b[0;32m      1\u001b[0m \u001b[38;5;66;03m# input the list\u001b[39;00m\n\u001b[1;32m----> 2\u001b[0m A\u001b[38;5;241m=\u001b[39m\u001b[38;5;28mlist\u001b[39m(\u001b[38;5;28;43mint\u001b[39;49m\u001b[43m(\u001b[49m\u001b[38;5;28;43minput\u001b[39;49m\u001b[43m(\u001b[49m\u001b[38;5;124;43m'\u001b[39;49m\u001b[38;5;124;43mEnter elements of List: \u001b[39;49m\u001b[38;5;124;43m'\u001b[39;49m\u001b[43m)\u001b[49m\u001b[38;5;241;43m.\u001b[39;49m\u001b[43msplit\u001b[49m\u001b[43m(\u001b[49m\u001b[43m)\u001b[49m\u001b[43m)\u001b[49m)\n\u001b[0;32m      4\u001b[0m \u001b[38;5;66;03m# create two empty lists to store EVEN and ODD elements\u001b[39;00m\n\u001b[0;32m      5\u001b[0m B\u001b[38;5;241m=\u001b[39m[]\n",
      "\u001b[1;31mTypeError\u001b[0m: int() argument must be a string, a bytes-like object or a number, not 'list'"
     ]
    }
   ],
   "source": [
    "# input the list\n",
    "A=list(int(input('Enter elements of List: ').split()))\n",
    "\n",
    "# create two empty lists to store EVEN and ODD elements\n",
    "B=[]\n",
    "c=[]\n",
    "\n",
    "for j in A:\n",
    "    if j%2==0:\n",
    "        B.append(j)\n",
    "    else:\n",
    "        c.append(j)\n",
    "        \n",
    "print('List of even number: ',B)\n",
    "print('List of odd number: ',c)\n"
   ]
  },
  {
   "cell_type": "code",
   "execution_count": 49,
   "id": "9583a391",
   "metadata": {},
   "outputs": [
    {
     "name": "stdout",
     "output_type": "stream",
     "text": [
      "list1:  [10, 20, 0, 30, 0, None]\n",
      "list2:  [40, False, 'Hello', '', None]\n",
      "list3:  [False, None, 0, '', 'Hello', 10, 'Hi!']\n"
     ]
    },
    {
     "ename": "TypeError",
     "evalue": "'list' object is not callable",
     "output_type": "error",
     "traceback": [
      "\u001b[1;31m---------------------------------------------------------------------------\u001b[0m",
      "\u001b[1;31mTypeError\u001b[0m                                 Traceback (most recent call last)",
      "Input \u001b[1;32mIn [49]\u001b[0m, in \u001b[0;36m<cell line: 16>\u001b[1;34m()\u001b[0m\n\u001b[0;32m     13\u001b[0m \u001b[38;5;28mprint\u001b[39m(\u001b[38;5;124m\"\u001b[39m\u001b[38;5;124mlist3: \u001b[39m\u001b[38;5;124m\"\u001b[39m, list3)\n\u001b[0;32m     15\u001b[0m \u001b[38;5;66;03m# removing falsy values and printing\u001b[39;00m\n\u001b[1;32m---> 16\u001b[0m \u001b[38;5;28mprint\u001b[39m(\u001b[38;5;124m\"\u001b[39m\u001b[38;5;124mnewlist(list1): \u001b[39m\u001b[38;5;124m\"\u001b[39m, \u001b[43mnewlist\u001b[49m\u001b[43m(\u001b[49m\u001b[43mlist1\u001b[49m\u001b[43m)\u001b[49m)\n\u001b[0;32m     17\u001b[0m \u001b[38;5;28mprint\u001b[39m(\u001b[38;5;124m\"\u001b[39m\u001b[38;5;124mnewlist(list2): \u001b[39m\u001b[38;5;124m\"\u001b[39m, newlist(list2))\n\u001b[0;32m     18\u001b[0m \u001b[38;5;28mprint\u001b[39m(\u001b[38;5;124m\"\u001b[39m\u001b[38;5;124mnewlist(list3): \u001b[39m\u001b[38;5;124m\"\u001b[39m, newlist(list3))\n",
      "Input \u001b[1;32mIn [49]\u001b[0m, in \u001b[0;36mnewlist\u001b[1;34m(lst)\u001b[0m\n\u001b[0;32m      2\u001b[0m \u001b[38;5;28;01mdef\u001b[39;00m \u001b[38;5;21mnewlist\u001b[39m(lst):\n\u001b[1;32m----> 3\u001b[0m     \u001b[38;5;28;01mreturn\u001b[39;00m \u001b[38;5;28;43mlist\u001b[39;49m\u001b[43m(\u001b[49m\u001b[38;5;28;43mfilter\u001b[39;49m\u001b[43m(\u001b[49m\u001b[38;5;28;43;01mNone\u001b[39;49;00m\u001b[43m,\u001b[49m\u001b[43mlst\u001b[49m\u001b[43m)\u001b[49m\u001b[43m)\u001b[49m\n",
      "\u001b[1;31mTypeError\u001b[0m: 'list' object is not callable"
     ]
    }
   ],
   "source": [
    "# Remove falsy values from a list in Python \n",
    "def newlist(lst):\n",
    "    return list(filter(None,lst))\n",
    "\n",
    "# main code\n",
    "list1 = [10, 20, 0, 30, 0, None]\n",
    "list2 = [40, False, \"Hello\", \"\", None]\n",
    "list3 = [False, None, 0, \"\", \"Hello\", 10, \"Hi!\"]\n",
    "\n",
    "# printing original strings\n",
    "print(\"list1: \", list1)\n",
    "print(\"list2: \", list2)\n",
    "print(\"list3: \", list3)\n",
    "\n",
    "# removing falsy values and printing\n",
    "print(\"newlist(list1): \", newlist(list1))\n",
    "print(\"newlist(list2): \", newlist(list2))\n",
    "print(\"newlist(list3): \", newlist(list3))\n"
   ]
  },
  {
   "cell_type": "markdown",
   "id": "68f473a9",
   "metadata": {},
   "source": [
    "Python program to remove multiple elements from a list using list comprehension"
   ]
  },
  {
   "cell_type": "code",
   "execution_count": 50,
   "id": "9c78fa35",
   "metadata": {},
   "outputs": [
    {
     "name": "stdout",
     "output_type": "stream",
     "text": [
      "The list is: \n",
      "[10, 20, 30, 40, 50, 60, 70]\n",
      "After removing elements, list is: \n",
      "[20, 40, 60, 70]\n"
     ]
    }
   ],
   "source": [
    "# Python program to remove multiple elements \n",
    "# from a list using list comprehension\n",
    "\n",
    "list1 = [10, 20, 30, 40, 50, 60, 70]\n",
    "\n",
    "# printing the list\n",
    "print(\"The list is: \")\n",
    "print(list1)\n",
    "\n",
    "# list comprehension, removing elements\n",
    "indices = 0, 2, 4\n",
    "list1 = [i for j, i in enumerate(list1) if j not in indices]\n",
    "\n",
    "# printing the list after removeing elements\n",
    "print(\"After removing elements, list is: \")\n",
    "print(list1)"
   ]
  },
  {
   "cell_type": "markdown",
   "id": "055f77de",
   "metadata": {},
   "source": [
    "Check all elements of a list are the same or not in Python"
   ]
  },
  {
   "cell_type": "code",
   "execution_count": 51,
   "id": "50fe84cf",
   "metadata": {},
   "outputs": [
    {
     "name": "stdout",
     "output_type": "stream",
     "text": [
      "x:  [10, 20, 30, 40, 50]\n",
      "x[1:]:  [20, 30, 40, 50]\n",
      "x[:-1]:  [10, 20, 30, 40]\n",
      "check_equal(x):  False\n",
      "\n",
      "y:  [10, 20, 20, 20, 20]\n",
      "y[1:]:  [20, 20, 20, 20]\n",
      "y[:-1]:  [10, 20, 20, 20]\n",
      "check_equal(y):  False\n",
      "\n",
      "z:  [10, 10, 10, 10, 10]\n",
      "z[1:]:  [10, 10, 10, 10]\n",
      "z[:-1]:  [10, 10, 10, 10]\n",
      "check_equal(z):  True\n",
      "\n"
     ]
    }
   ],
   "source": [
    "# function to check elements\n",
    "def check_equal(a):\n",
    "    return a[1:] == a[:-1]\n",
    "\n",
    "# lists\n",
    "x = [10, 20, 30, 40,50]\n",
    "y = [10, 20, 20, 20, 20]\n",
    "z = [10, 10, 10, 10, 10]\n",
    "\n",
    "# check how [1:] and [:-1] wors?\n",
    "print(\"x: \", x)\n",
    "print(\"x[1:]: \", x[1:])\n",
    "print(\"x[:-1]: \", x[:-1])\n",
    "print(\"check_equal(x): \",check_equal(x))\n",
    "print()\n",
    "\n",
    "print(\"y: \", y)\n",
    "print(\"y[1:]: \", y[1:])\n",
    "print(\"y[:-1]: \", y[:-1])\n",
    "print(\"check_equal(y): \",check_equal(y))\n",
    "print()\n",
    "\n",
    "print(\"z: \", z)\n",
    "print(\"z[1:]: \", z[1:])\n",
    "print(\"z[:-1]: \", z[:-1])\n",
    "print(\"check_equal(z): \",check_equal(z))\n",
    "print()\n"
   ]
  },
  {
   "cell_type": "markdown",
   "id": "e2c46af9",
   "metadata": {},
   "source": [
    "Check all elements are unique or not in Python"
   ]
  },
  {
   "cell_type": "code",
   "execution_count": 52,
   "id": "acdb8a41",
   "metadata": {},
   "outputs": [
    {
     "name": "stdout",
     "output_type": "stream",
     "text": [
      "x:  [10, 20, 30, 40, 50]\n",
      "len(x):  5\n",
      "set(x):  {40, 10, 50, 20, 30}\n",
      "len(set(x)):  5\n",
      "check_unique(x):  True\n",
      "\n",
      "y:  [10, 20, 20, 20, 20]\n",
      "len(y):  5\n",
      "set(y):  {10, 20}\n",
      "len(set(y)):  2\n",
      "check_unique(y):  False\n",
      "\n",
      "z:  [10, 10, 10, 10, 10]\n",
      "len(z):  5\n",
      "set(z):  {10}\n",
      "len(set(z)):  1\n",
      "check_unique(z):  False\n",
      "\n"
     ]
    }
   ],
   "source": [
    "# function to check unique\n",
    "def check_unique(x):\n",
    "    return len(x) == len(set(x))\n",
    "\n",
    "# lists\n",
    "x = [10, 20, 30, 40,50]\n",
    "y = [10, 20, 20, 20, 20]\n",
    "z = [10, 10, 10, 10, 10]\n",
    "\n",
    "print(\"x: \", x)\n",
    "print(\"len(x): \", len(x))\n",
    "print(\"set(x): \", set(x))\n",
    "print(\"len(set(x)): \", len(set(x)))\n",
    "print(\"check_unique(x): \", check_unique(x))\n",
    "print()\n",
    "\n",
    "print(\"y: \", y)\n",
    "print(\"len(y): \", len(y))\n",
    "print(\"set(y): \", set(y))\n",
    "print(\"len(set(y)): \", len(set(y)))\n",
    "print(\"check_unique(y): \", check_unique(y))\n",
    "print()\n",
    "\n",
    "print(\"z: \", z)\n",
    "print(\"len(z): \", len(z))\n",
    "print(\"set(z): \", set(z))\n",
    "print(\"len(set(z)): \", len(set(z)))\n",
    "print(\"check_unique(z): \", check_unique(z))\n",
    "print()\n"
   ]
  },
  {
   "cell_type": "markdown",
   "id": "7b9118b6",
   "metadata": {},
   "source": [
    "Python program to print positive or negative numbers in a list"
   ]
  },
  {
   "cell_type": "code",
   "execution_count": 54,
   "id": "d370f269",
   "metadata": {},
   "outputs": [
    {
     "name": "stdout",
     "output_type": "stream",
     "text": [
      "Enter number of elements : 5\n",
      "10\n",
      "20\n",
      "15\n",
      "-5\n",
      "-6\n",
      "All positive numbers of the list : \n",
      "10 20 15 "
     ]
    }
   ],
   "source": [
    "myList = []\n",
    "length = int(input(\"Enter number of elements : \"))\n",
    "for i in range(0, length):\n",
    "    value = int(input())\n",
    "    myList.append(value)\n",
    "\n",
    "# printing all positive values of the list \n",
    "print(\"All positive numbers of the list : \")\n",
    "for ele in myList:\n",
    "\tif ele >= 0:\n",
    "\t    print(ele, end = \" \")\n"
   ]
  },
  {
   "cell_type": "code",
   "execution_count": 57,
   "id": "3ba1d4d9",
   "metadata": {},
   "outputs": [
    {
     "name": "stdout",
     "output_type": "stream",
     "text": [
      "Enter number of elements : 3\n",
      "-10\n",
      "52\n",
      "-30\n",
      "All positive numbers of the list :  (<function <lambda> at 0x0000015227206940>, [-10, 52, -30])\n"
     ]
    }
   ],
   "source": [
    "# Python program to find positive numbers from a list\n",
    "\n",
    "# Getting list from user\n",
    "myList = []\n",
    "length = int(input(\"Enter number of elements : \"))\n",
    "for i in range(0, length):\n",
    "    value = int(input())\n",
    "    myList.append(value)\n",
    "    \n",
    "# finding all positive number from the list \n",
    "posNoList = lambda i: (i >= 0), myList\n",
    "\n",
    "# printing all positive values of the list \n",
    "print(\"All positive numbers of the list : \", posNoList)\n"
   ]
  },
  {
   "cell_type": "code",
   "execution_count": 58,
   "id": "b67b6ae2",
   "metadata": {},
   "outputs": [
    {
     "name": "stdout",
     "output_type": "stream",
     "text": [
      "Enter number of elements : 5\n",
      "10\n",
      "-20\n",
      "30\n",
      "-40\n",
      "50\n",
      "All negative numbers of the list : \n",
      "-20 -40 "
     ]
    }
   ],
   "source": [
    "# Python program to find negative numbers from a list\n",
    "\n",
    "# Getting list from user\n",
    "myList = []\n",
    "length = int(input(\"Enter number of elements : \"))\n",
    "for i in range(0, length):\n",
    "    value = int(input())\n",
    "    myList.append(value)\n",
    "\n",
    "# printing all negative values of the list \n",
    "print(\"All negative numbers of the list : \")\n",
    "for ele in myList:\n",
    "    if ele < 0:\n",
    "\t    print(ele, end = \" \")"
   ]
  },
  {
   "cell_type": "code",
   "execution_count": 59,
   "id": "8ef8e851",
   "metadata": {},
   "outputs": [
    {
     "name": "stdout",
     "output_type": "stream",
     "text": [
      "Enter number of elements : 5\n",
      "10\n",
      "-20\n",
      "30\n",
      "-40\n",
      "50\n"
     ]
    },
    {
     "ename": "TypeError",
     "evalue": "'list' object is not callable",
     "output_type": "error",
     "traceback": [
      "\u001b[1;31m---------------------------------------------------------------------------\u001b[0m",
      "\u001b[1;31mTypeError\u001b[0m                                 Traceback (most recent call last)",
      "Input \u001b[1;32mIn [59]\u001b[0m, in \u001b[0;36m<cell line: 11>\u001b[1;34m()\u001b[0m\n\u001b[0;32m      8\u001b[0m     myList\u001b[38;5;241m.\u001b[39mappend(value)\n\u001b[0;32m     10\u001b[0m \u001b[38;5;66;03m# finding all negative number from the list \u001b[39;00m\n\u001b[1;32m---> 11\u001b[0m negNoList \u001b[38;5;241m=\u001b[39m \u001b[38;5;28;43mlist\u001b[39;49m\u001b[43m(\u001b[49m\u001b[38;5;28;43mfilter\u001b[39;49m\u001b[43m(\u001b[49m\u001b[38;5;28;43;01mlambda\u001b[39;49;00m\u001b[43m \u001b[49m\u001b[43mi\u001b[49m\u001b[43m:\u001b[49m\u001b[43m \u001b[49m\u001b[43m(\u001b[49m\u001b[43mi\u001b[49m\u001b[43m \u001b[49m\u001b[38;5;241;43m<\u001b[39;49m\u001b[43m \u001b[49m\u001b[38;5;241;43m0\u001b[39;49m\u001b[43m)\u001b[49m\u001b[43m,\u001b[49m\u001b[43m \u001b[49m\u001b[43mmyList\u001b[49m\u001b[43m)\u001b[49m\u001b[43m)\u001b[49m\n\u001b[0;32m     13\u001b[0m \u001b[38;5;66;03m# printing all negative values of the list \u001b[39;00m\n\u001b[0;32m     14\u001b[0m \u001b[38;5;28mprint\u001b[39m(\u001b[38;5;124m\"\u001b[39m\u001b[38;5;124mAll negative numbers of the list : \u001b[39m\u001b[38;5;124m\"\u001b[39m, negNoList)\n",
      "\u001b[1;31mTypeError\u001b[0m: 'list' object is not callable"
     ]
    }
   ],
   "source": [
    "# Python program to find negative numbers from a list\n",
    "\n",
    "# Getting list from user\n",
    "myList = []\n",
    "length = int(input(\"Enter number of elements : \"))\n",
    "for i in range(0, length):\n",
    "    value = int(input())\n",
    "    myList.append(value)\n",
    "    \n",
    "# finding all negative number from the list \n",
    "negNoList = list(filter(lambda i: (i < 0), myList))\n",
    "\n",
    "# printing all negative values of the list \n",
    "print(\"All negative numbers of the list : \", negNoList)\n"
   ]
  },
  {
   "cell_type": "markdown",
   "id": "e0edb508",
   "metadata": {},
   "source": [
    "Python program to extract keywords from the list"
   ]
  },
  {
   "cell_type": "code",
   "execution_count": 60,
   "id": "951ad584",
   "metadata": {},
   "outputs": [
    {
     "name": "stdout",
     "output_type": "stream",
     "text": [
      "List of sentences =  ['include help is', 'great platform for programmers']\n",
      "Keywords present in List :  ['is', 'for']\n"
     ]
    }
   ],
   "source": [
    "# Python Program to extract keywords from the list...\n",
    "\n",
    "# Import iskeyword method\n",
    "from keyword import iskeyword \n",
    "\n",
    "# Initializing list of sentences...\n",
    "listOfSentence = [\"include help is\", \"great platform for programmers\"]\n",
    "\n",
    "# Printing original list\n",
    "print(\"List of sentences = \", end = \" \")\n",
    "print(listOfSentence)\n",
    "\n",
    "keywordList = [] \n",
    "# Iterating using loop and checking for Keywords...\n",
    "for sentence in listOfSentence:\n",
    "    for words in sentence.split():\n",
    "    \tif iskeyword(words):\n",
    "\t\t    keywordList.append(words)\n",
    "\n",
    "# Print keyword list...\n",
    "print(\"Keywords present in List : \", end = \" \" )\n",
    "print(keywordList)\n"
   ]
  },
  {
   "cell_type": "markdown",
   "id": "c3dc4f1f",
   "metadata": {},
   "source": [
    "Python program to remove empty list from a list of lists"
   ]
  },
  {
   "cell_type": "code",
   "execution_count": 61,
   "id": "95f95054",
   "metadata": {},
   "outputs": [
    {
     "name": "stdout",
     "output_type": "stream",
     "text": [
      "List of List =  [[5], [54, 545, 9], [], [1, 4, 7], [], [8, 2, 5]]\n",
      "List without empty list:  [[5], [54, 545, 9], [1, 4, 7], [8, 2, 5]]\n"
     ]
    }
   ],
   "source": [
    "# Python program to remove empty list \n",
    "# from a list of lists\n",
    "\n",
    "# Initializing list of lists\n",
    "listofList = [[5], [54, 545,9], [], [1, 4, 7], [], [8, 2, 5] ]\n",
    "\n",
    "# Printing original list\n",
    "print(\"List of List = \", end = \" \")\n",
    "print(listofList)\n",
    "\n",
    "nonEmptyList = [] \n",
    "\n",
    "# Iterating using loop and eliminating empty list\n",
    "nonEmptyList = [listEle for listEle in listofList if listEle != []]\n",
    "\n",
    "# Printing list without empty list\n",
    "print(\"List without empty list: \", end = \" \" )\n",
    "print(nonEmptyList)\n"
   ]
  },
  {
   "cell_type": "code",
   "execution_count": 62,
   "id": "799edb9c",
   "metadata": {},
   "outputs": [
    {
     "name": "stdout",
     "output_type": "stream",
     "text": [
      "List of List =  [[5], [54, 545, 9], [], [1, 4, 7], [], [8, 2, 5]]\n"
     ]
    },
    {
     "ename": "TypeError",
     "evalue": "'list' object is not callable",
     "output_type": "error",
     "traceback": [
      "\u001b[1;31m---------------------------------------------------------------------------\u001b[0m",
      "\u001b[1;31mTypeError\u001b[0m                                 Traceback (most recent call last)",
      "Input \u001b[1;32mIn [62]\u001b[0m, in \u001b[0;36m<cell line: 12>\u001b[1;34m()\u001b[0m\n\u001b[0;32m     10\u001b[0m nonEmptyList \u001b[38;5;241m=\u001b[39m [] \n\u001b[0;32m     11\u001b[0m \u001b[38;5;66;03m# eliminating empty lists using the filter method...\u001b[39;00m\n\u001b[1;32m---> 12\u001b[0m nonEmptyList \u001b[38;5;241m=\u001b[39m \u001b[38;5;28;43mlist\u001b[39;49m\u001b[43m(\u001b[49m\u001b[38;5;28;43mfilter\u001b[39;49m\u001b[43m(\u001b[49m\u001b[38;5;28;43;01mNone\u001b[39;49;00m\u001b[43m,\u001b[49m\u001b[43m \u001b[49m\u001b[43mlistofList\u001b[49m\u001b[43m)\u001b[49m\u001b[43m)\u001b[49m\n\u001b[0;32m     14\u001b[0m \u001b[38;5;66;03m# Printing list without empty list\u001b[39;00m\n\u001b[0;32m     15\u001b[0m \u001b[38;5;28mprint\u001b[39m(\u001b[38;5;124m\"\u001b[39m\u001b[38;5;124mList without empty list: \u001b[39m\u001b[38;5;124m\"\u001b[39m, end \u001b[38;5;241m=\u001b[39m \u001b[38;5;124m\"\u001b[39m\u001b[38;5;124m \u001b[39m\u001b[38;5;124m\"\u001b[39m )\n",
      "\u001b[1;31mTypeError\u001b[0m: 'list' object is not callable"
     ]
    }
   ],
   "source": [
    "# Python Program to remove empty list from a list of lists\n",
    "\n",
    "# Initializing list of lists\n",
    "listofList = [[5], [54, 545,9], [], [1, 4, 7], [], [8, 2, 5] ]\n",
    "\n",
    "# Printing original list\n",
    "print(\"List of List = \", end = \" \")\n",
    "print(listofList)\n",
    "\n",
    "nonEmptyList = [] \n",
    "# eliminating empty lists using the filter method...\n",
    "nonEmptyList = list(filter(None, listofList))\n",
    "\n",
    "# Printing list without empty list\n",
    "print(\"List without empty list: \", end = \" \" )\n",
    "print(nonEmptyList)\n"
   ]
  },
  {
   "cell_type": "markdown",
   "id": "53ab9423",
   "metadata": {},
   "source": [
    "Python program to multiply all numbers of a list"
   ]
  },
  {
   "cell_type": "code",
   "execution_count": 64,
   "id": "58202e64",
   "metadata": {},
   "outputs": [
    {
     "name": "stdout",
     "output_type": "stream",
     "text": [
      "List :  [4, 1, 6, 3, 9]\n",
      "Product of all values =  648\n"
     ]
    }
   ],
   "source": [
    "# Python program to multiply all numbers of a list\n",
    "\n",
    "# Getting list from user\n",
    "myList = [4,1,6,3,9]\n",
    "length = 5\n",
    "# for i in range(0, length):\n",
    "#     value = int(input())\n",
    "#     myList.append(value)\n",
    "\n",
    "# multiplying all numbers of a list\n",
    "productVal = 1\n",
    "for i in myList:\n",
    "    productVal *= i\n",
    "\n",
    "# Printing values \n",
    "print(\"List : \", myList)\n",
    "print(\"Product of all values = \", productVal)\n"
   ]
  },
  {
   "cell_type": "code",
   "execution_count": 65,
   "id": "1a03662e",
   "metadata": {},
   "outputs": [
    {
     "name": "stdout",
     "output_type": "stream",
     "text": [
      "Enter number of elements: 3\n",
      "3\n",
      "5\n",
      "7\n",
      "List :  [3, 5, 7]\n",
      "Product of all values=  105\n"
     ]
    }
   ],
   "source": [
    "# Python program to multiply all numbers of a list\n",
    "\n",
    "import math\n",
    "\n",
    "# Getting list from user\n",
    "myList = []\n",
    "length = int(input(\"Enter number of elements: \"))\n",
    "for i in range(0, length):\n",
    "    value = int(input())\n",
    "    myList.append(value)\n",
    "\n",
    "# multiplying all numbers of a list\n",
    "productVal = math.prod(myList)\n",
    "\n",
    "# Printing values \n",
    "print(\"List : \", myList)\n",
    "print(\"Product of all values= \", productVal)\n"
   ]
  },
  {
   "cell_type": "code",
   "execution_count": 66,
   "id": "c2ff7277",
   "metadata": {},
   "outputs": [
    {
     "name": "stdout",
     "output_type": "stream",
     "text": [
      "Enter number of elements: 3\n",
      "3\n",
      "5\n",
      "7\n",
      "List :  [3, 5, 7]\n",
      "Product of all values=  105\n"
     ]
    }
   ],
   "source": [
    "# Python program to multiply all numbers of a list\n",
    "\n",
    "import numpy\n",
    "\n",
    "# Getting list from user\n",
    "myList = []\n",
    "length = int(input(\"Enter number of elements: \"))\n",
    "for i in range(0, length):\n",
    "    value = int(input())\n",
    "    myList.append(value)\n",
    "\n",
    "# multiplying all numbers of a list\n",
    "productVal = numpy.prod(myList)\n",
    "\n",
    "# Printing values \n",
    "print(\"List : \", myList)\n",
    "print(\"Product of all values= \", productVal)\n"
   ]
  },
  {
   "cell_type": "markdown",
   "id": "803a9933",
   "metadata": {},
   "source": [
    "How to find the length of a list in Python (3 effective ways)"
   ]
  },
  {
   "cell_type": "code",
   "execution_count": 67,
   "id": "01a40d28",
   "metadata": {},
   "outputs": [
    {
     "name": "stdout",
     "output_type": "stream",
     "text": [
      "Enter list element , (-1 to exit): \n",
      "10\n",
      "20\n",
      "-1\n",
      "List:  [10, 20]\n",
      "length of the list is:  2\n"
     ]
    }
   ],
   "source": [
    "# Python program to find the length of a list\n",
    "\n",
    "# Getting list from user\n",
    "myList = []\n",
    "print(\"Enter list element , (-1 to exit): \")\n",
    "\n",
    "while(1):\n",
    "    val = int(input())\n",
    "    if(val == -1):\n",
    "        break\n",
    "    myList.append(val)\n",
    "\n",
    "# Finding the length of the list \n",
    "count = 0\n",
    "for i in myList:\n",
    "    count += 1\n",
    "\n",
    "# Printing list and length\n",
    "print(\"List: \", myList)\n",
    "print(\"length of the list is: \", count)"
   ]
  },
  {
   "cell_type": "code",
   "execution_count": 68,
   "id": "f2643c4d",
   "metadata": {},
   "outputs": [
    {
     "name": "stdout",
     "output_type": "stream",
     "text": [
      "Enter list element , (-1 to exit): \n",
      "10\n",
      "20\n",
      "01\n",
      "-1\n",
      "List :  [10, 20, 1]\n",
      "length of the list is:  3\n"
     ]
    }
   ],
   "source": [
    "# Python program to find the length of a list\n",
    "\n",
    "# Getting list from user\n",
    "myList = []\n",
    "print(\"Enter list element , (-1 to exit): \")\n",
    "\n",
    "while(1):\n",
    "    val = int(input())\n",
    "    if(val == -1):\n",
    "        break\n",
    "    myList.append(val)\n",
    "\n",
    "# Finding the length of the list \n",
    "listLength = len(myList)\n",
    "\n",
    "# Printing list and length\n",
    "print(\"List : \", myList)\n",
    "print(\"length of the list is: \", listLength)"
   ]
  },
  {
   "cell_type": "code",
   "execution_count": 69,
   "id": "e0a9fa75",
   "metadata": {},
   "outputs": [
    {
     "name": "stdout",
     "output_type": "stream",
     "text": [
      "Enter number of elements: 5\n",
      "2\n",
      "3\n",
      "3\n",
      "2\n",
      "3\n",
      "Enter element to be searched in the list: 2\n",
      "Element found\n"
     ]
    }
   ],
   "source": [
    "# Python program to check if an \n",
    "# element exists in list \n",
    "\n",
    "# Getting list from user\n",
    "myList = []\n",
    "length = int(input(\"Enter number of elements: \"))\n",
    "for i in range(0, length):\n",
    "    value = int(input())\n",
    "    myList.append(value)\n",
    "ele = int(input(\"Enter element to be searched in the list: \"))\n",
    "\n",
    "# checking for the presence of element in list\n",
    "found = False\n",
    "for i in myList:\n",
    "    if(i == ele) :\n",
    "        found = True\n",
    "        break\n",
    "if(found):\n",
    "    print(\"Element found\")\n",
    "else :\n",
    "    print(\"Element not found!\")"
   ]
  },
  {
   "cell_type": "markdown",
   "id": "c2b8023b",
   "metadata": {},
   "source": [
    "Python program to check if an element is present in list"
   ]
  },
  {
   "cell_type": "code",
   "execution_count": 70,
   "id": "cbaf7d42",
   "metadata": {},
   "outputs": [
    {
     "name": "stdout",
     "output_type": "stream",
     "text": [
      "Enter number of elements: 5\n",
      "10\n",
      "20\n",
      "20\n",
      "20\n",
      "20\n",
      "Enter element to be searched in the list: 5\n",
      "Element not found!\n"
     ]
    }
   ],
   "source": [
    "# Python program to check if an element \n",
    "# exists in list \n",
    "\n",
    "# Getting list from user\n",
    "myList = []\n",
    "length = int(input(\"Enter number of elements: \"))\n",
    "for i in range(0, length):\n",
    "    value = int(input())\n",
    "    myList.append(value)\n",
    "\n",
    "ele = int(input(\"Enter element to be searched in the list: \"))\n",
    "\n",
    "# checking for the presence of element in list\n",
    "\n",
    "if(ele in myList):\n",
    "    print(\"Element found\")\n",
    "else :\n",
    "    print(\"Element not found!\")"
   ]
  },
  {
   "cell_type": "code",
   "execution_count": 71,
   "id": "b125ce12",
   "metadata": {},
   "outputs": [
    {
     "name": "stdout",
     "output_type": "stream",
     "text": [
      "Enter number of elements: 5\n",
      "10\n",
      "10\n",
      "20\n",
      "23\n",
      "20\n",
      "Enter element to be searched in the list: 20\n",
      "Element found\n"
     ]
    }
   ],
   "source": [
    "# Python program to check if an element \n",
    "# exists in list \n",
    "\n",
    "import bisect\n",
    "\n",
    "# Getting list from user\n",
    "myList = []\n",
    "length = int(input(\"Enter number of elements: \"))\n",
    "for i in range(0, length):\n",
    "    value = int(input())\n",
    "    myList.append(value)\n",
    "\n",
    "ele = int(input(\"Enter element to be searched in the list: \"))\n",
    "\n",
    "# checking for the presence of element in list\n",
    "myList.sort()\n",
    "if(bisect.bisect_left(myList, ele) ):\n",
    "    print(\"Element found\")\n",
    "else :\n",
    "    print(\"Element not found!\")"
   ]
  },
  {
   "cell_type": "code",
   "execution_count": 72,
   "id": "0a2c3821",
   "metadata": {},
   "outputs": [
    {
     "name": "stdout",
     "output_type": "stream",
     "text": [
      "Enter number of elements: 5\n",
      "10\n",
      "20\n",
      "30\n",
      "40\n",
      "50\n",
      "Enter indexes to be swapped \n",
      "index 1: 4\n",
      "index 2: 2\n",
      "Initial List:  [10, 20, 30, 40, 50]\n",
      "List after Swapping:  [10, 20, 50, 40, 30]\n"
     ]
    }
   ],
   "source": [
    "# Python program to swap element of a list\n",
    "\n",
    "# Getting list from user\n",
    "myList = []\n",
    "length = int(input(\"Enter number of elements: \"))\n",
    "for i in range(0, length):\n",
    "    val = int(input())\n",
    "    myList.append(val)\n",
    "\n",
    "print(\"Enter indexes to be swapped \")\n",
    "index1 = int(input(\"index 1: \"))\n",
    "index2 = int(input(\"index 2: \"))\n",
    "\n",
    "print(\"Initial List: \", myList)\n",
    "# Swapping given elements\n",
    "myList[index1], myList[index2] = myList[index2], myList[index1]\n",
    "\n",
    "# Printing list \n",
    "print(\"List after Swapping: \", myList)"
   ]
  },
  {
   "cell_type": "markdown",
   "id": "749d1e9b",
   "metadata": {},
   "source": [
    "Python program to check if an element is present in list"
   ]
  },
  {
   "cell_type": "code",
   "execution_count": 74,
   "id": "8cccbb6f",
   "metadata": {},
   "outputs": [
    {
     "name": "stdout",
     "output_type": "stream",
     "text": [
      "Enter number of elements  5\n",
      "10\n",
      "20\n",
      "30\n",
      "40\n",
      "50\n",
      "Enter indexes to be swapped \n",
      "index 1: 1\n",
      "index 2: 3\n",
      "Initial List:  [10, 20, 30, 40, 50]\n",
      "List after Swapping:  [10, 40, 30, 20, 50]\n"
     ]
    }
   ],
   "source": [
    "# Python program to swap element of a list\n",
    "\n",
    "# Getting list from user\n",
    "myList = []\n",
    "\n",
    "length = int(input(\"Enter number of elements  \"))\n",
    "for i in range(0, length):\n",
    "    val = int(input())\n",
    "    myList.append(val)\n",
    "\n",
    "print(\"Enter indexes to be swapped \")\n",
    "index1 = int(input(\"index 1: \"))\n",
    "index2 = int(input(\"index 2: \"))\n",
    "\n",
    "print(\"Initial List: \", myList)\n",
    "# Swapping given element\n",
    "val1 = myList.pop(index1)\n",
    "val2 = myList.pop(index2 - 1)\n",
    "myList.insert(index1, val2)\n",
    "myList.insert(index2, val1)\n",
    "\n",
    "# Printing list \n",
    "print(\"List after Swapping: \", myList)"
   ]
  },
  {
   "cell_type": "code",
   "execution_count": null,
   "id": "3bc92c22",
   "metadata": {},
   "outputs": [],
   "source": []
  }
 ],
 "metadata": {
  "kernelspec": {
   "display_name": "Python 3 (ipykernel)",
   "language": "python",
   "name": "python3"
  },
  "language_info": {
   "codemirror_mode": {
    "name": "ipython",
    "version": 3
   },
   "file_extension": ".py",
   "mimetype": "text/x-python",
   "name": "python",
   "nbconvert_exporter": "python",
   "pygments_lexer": "ipython3",
   "version": "3.9.12"
  }
 },
 "nbformat": 4,
 "nbformat_minor": 5
}
